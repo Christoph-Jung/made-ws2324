{
 "cells": [
  {
   "cell_type": "markdown",
   "metadata": {},
   "source": [
    "# Introduction\n",
    "The NBA is one of the most stats heavy professional sport league in the world. The teams invest highly in analytics and tracking of different metrics, which results in a bunch of different available stats. One fan favorite statistic is the publication of the NBA 2k ratings at the beginning of each season for the eponymous video game. While only relevant for the video game itself, the ratings tend to be heavily discussed by fans and TV. But how accurate are these ratings in hindsight with respect to advanced stats, and to add something extra to this project, to salary. We want to look at the NBA 2k 2020 players stats and analyze them using the stats from the subsequent season. \n",
    "To reiterate the main question of this project was:\n",
    "\n",
    "**Given advanced stats and salaries are NBA players matching their NBA 2k rating published prior to the season.**"
   ]
  },
  {
   "cell_type": "markdown",
   "metadata": {},
   "source": [
    "# Methods & Preprocessing\n",
    "\n",
    "## First data set\n",
    "Firstly we need as many stats as possible for our players. They were combined in the second dataset from the project plan, named 1991-2021 NBA Stats from Kaggle.\n",
    "Since the NBA 2k ratings were for the 2020 version of the game, only the stats for that year were needed. So every row, where the \"Year\" column was different to 2020 was dropped. This resulted in 484 rows of player data containing different stats like efficiency, points scored or assists. Additionally, there were uninteresting columns like Teams or Age. Since they are unimportant for analysis, but not factually incorrect or missing, they were kept in the dataset and were only removed for the analysis part. \n",
    "\n",
    "## Second data set\n",
    "The other dataset contains the NBA 2k ratings for each player and their respective salary and game version. There were other columns containing information like colleges, jerseys or birthdays. They were all dropped in the preprocessing part. The dataset contains the ratings for 2020 and some updated ratings for picked players from 2021 or 2022. Since the stats for the 2020 season are used and duplicates have to be eliminated, every row containing a rating not from the 2020 version was dropped. That also eliminated duplicates for players, e.g. LeBron James had three entries for versions 2020, 2021 and 2022. This resulted in 429 rows of NBA 2k data. \n",
    "\n",
    "## Pipeline and next steps\n",
    "This means there is a discrepancy between both datasets in regard to covered players. Dealing with that is the job of the analysis workflow, which is further discussed in the results chapter\n",
    "\n",
    "Since both datasets are from Kaggle the pipeline uses the Python API for Kaggle. This makes downloading the datasets very easy, however an authentication token is necessary. This requires a free account at Kaggle.\n",
    "\n",
    "The setup script itself uses the Kaggle API for download, does the outlined preprocessing steps and then saves the data frames in a SQLite database. "
   ]
  },
  {
   "cell_type": "markdown",
   "metadata": {},
   "source": [
    "### Interim stage\n",
    "To prepare the results, we quickly check for dependencies and run our setup pipeline"
   ]
  },
  {
   "cell_type": "code",
   "execution_count": 11,
   "metadata": {},
   "outputs": [],
   "source": [
    "%%capture\n",
    "\n",
    "# Dependencies\n",
    "%pip install -r project_requirements.txt     "
   ]
  },
  {
   "cell_type": "code",
   "execution_count": 2,
   "metadata": {},
   "outputs": [
    {
     "name": "stdout",
     "output_type": "stream",
     "text": [
      "Authenticated using kaggle.json\n",
      "Saving the table stats_2k in database main_db.sqlite at sqlite:///../data/main_db.sqlite\n",
      "Saving the table stats_player in database main_db.sqlite at sqlite:///../data/main_db.sqlite\n"
     ]
    }
   ],
   "source": [
    "import setup\n",
    "setup.workflow()"
   ]
  },
  {
   "cell_type": "markdown",
   "metadata": {},
   "source": [
    "Results: Presents the data in a fitting format (e.g., tables, diagrams, figures or similar) without interpretation"
   ]
  },
  {
   "cell_type": "markdown",
   "metadata": {},
   "source": [
    "# Results"
   ]
  },
  {
   "cell_type": "markdown",
   "metadata": {},
   "source": [
    "## Set up the dataframe"
   ]
  },
  {
   "cell_type": "markdown",
   "metadata": {},
   "source": [
    "As discussed in the methods' chapter we need to deal with the discrepancy between the two data sets. To avoid missing data the datasets where combined and only players, which appear in both datasets are considered for analysis. The join was done on the full name of the players.\n",
    "\n",
    "To get appropriate ratings for a player we train a Logistic Regression model using Scikit-learn. Since the evaluated player should not be in the training set and training a model for every player is rather cumbersome, we split the dataset into four groups and train a regression model on each of them. \n",
    "We then evaluate players from group A using the average of the model output from group B, C and D and so on. \n",
    "\n",
    "The evaluated ratings are then added as a new column into our original dataset and returned by the analysis workflow. \n",
    "\n",
    "It is of course important to note, that ratings and the names of players were removed from the training set before fitting the model. "
   ]
  },
  {
   "cell_type": "code",
   "execution_count": 3,
   "metadata": {},
   "outputs": [],
   "source": [
    "import matplotlib.pyplot as plt\n",
    "\n",
    "import analysis_workflow\n",
    "\n",
    "unified_dataframe, models = analysis_workflow.main_workflow()"
   ]
  },
  {
   "cell_type": "markdown",
   "metadata": {},
   "source": [
    "Let's take a look at the final data frame:\n",
    "Quick sidenote: Since the players are shuffled every run to avoid groupings present in the original dataset, the shown output will differ every run. "
   ]
  },
  {
   "cell_type": "code",
   "execution_count": 4,
   "metadata": {},
   "outputs": [
    {
     "data": {
      "text/html": [
       "<div>\n",
       "<style scoped>\n",
       "    .dataframe tbody tr th:only-of-type {\n",
       "        vertical-align: middle;\n",
       "    }\n",
       "\n",
       "    .dataframe tbody tr th {\n",
       "        vertical-align: top;\n",
       "    }\n",
       "\n",
       "    .dataframe thead th {\n",
       "        text-align: right;\n",
       "    }\n",
       "</style>\n",
       "<table border=\"1\" class=\"dataframe\">\n",
       "  <thead>\n",
       "    <tr style=\"text-align: right;\">\n",
       "      <th></th>\n",
       "      <th>Player</th>\n",
       "      <th>G</th>\n",
       "      <th>MP</th>\n",
       "      <th>FG</th>\n",
       "      <th>FGA</th>\n",
       "      <th>FG%</th>\n",
       "      <th>3P</th>\n",
       "      <th>3PA</th>\n",
       "      <th>3P%</th>\n",
       "      <th>2P</th>\n",
       "      <th>...</th>\n",
       "      <th>TRB</th>\n",
       "      <th>AST</th>\n",
       "      <th>STL</th>\n",
       "      <th>BLK</th>\n",
       "      <th>TOV</th>\n",
       "      <th>PF</th>\n",
       "      <th>PTS</th>\n",
       "      <th>salary</th>\n",
       "      <th>rating</th>\n",
       "      <th>Appr. Rating</th>\n",
       "    </tr>\n",
       "  </thead>\n",
       "  <tbody>\n",
       "    <tr>\n",
       "      <th>0</th>\n",
       "      <td>Eric Gordon</td>\n",
       "      <td>36.0</td>\n",
       "      <td>28.2</td>\n",
       "      <td>4.8</td>\n",
       "      <td>12.9</td>\n",
       "      <td>0.369</td>\n",
       "      <td>2.7</td>\n",
       "      <td>8.4</td>\n",
       "      <td>0.317</td>\n",
       "      <td>2.1</td>\n",
       "      <td>...</td>\n",
       "      <td>2.0</td>\n",
       "      <td>1.5</td>\n",
       "      <td>0.6</td>\n",
       "      <td>0.4</td>\n",
       "      <td>1.2</td>\n",
       "      <td>1.9</td>\n",
       "      <td>14.4</td>\n",
       "      <td>14.058</td>\n",
       "      <td>78</td>\n",
       "      <td>83.0</td>\n",
       "    </tr>\n",
       "    <tr>\n",
       "      <th>1</th>\n",
       "      <td>Hassan Whiteside</td>\n",
       "      <td>67.0</td>\n",
       "      <td>30.0</td>\n",
       "      <td>6.5</td>\n",
       "      <td>10.5</td>\n",
       "      <td>0.621</td>\n",
       "      <td>0.1</td>\n",
       "      <td>0.1</td>\n",
       "      <td>0.571</td>\n",
       "      <td>6.4</td>\n",
       "      <td>...</td>\n",
       "      <td>13.5</td>\n",
       "      <td>1.2</td>\n",
       "      <td>0.4</td>\n",
       "      <td>2.9</td>\n",
       "      <td>1.8</td>\n",
       "      <td>2.9</td>\n",
       "      <td>15.5</td>\n",
       "      <td>27.093</td>\n",
       "      <td>81</td>\n",
       "      <td>81.0</td>\n",
       "    </tr>\n",
       "    <tr>\n",
       "      <th>2</th>\n",
       "      <td>Solomon Hill</td>\n",
       "      <td>59.0</td>\n",
       "      <td>18.4</td>\n",
       "      <td>1.9</td>\n",
       "      <td>4.7</td>\n",
       "      <td>0.396</td>\n",
       "      <td>1.1</td>\n",
       "      <td>2.9</td>\n",
       "      <td>0.368</td>\n",
       "      <td>0.8</td>\n",
       "      <td>...</td>\n",
       "      <td>2.8</td>\n",
       "      <td>1.8</td>\n",
       "      <td>0.7</td>\n",
       "      <td>0.2</td>\n",
       "      <td>0.9</td>\n",
       "      <td>1.4</td>\n",
       "      <td>5.5</td>\n",
       "      <td>13.290</td>\n",
       "      <td>70</td>\n",
       "      <td>74.0</td>\n",
       "    </tr>\n",
       "    <tr>\n",
       "      <th>3</th>\n",
       "      <td>Miye Oni</td>\n",
       "      <td>10.0</td>\n",
       "      <td>10.9</td>\n",
       "      <td>1.2</td>\n",
       "      <td>3.2</td>\n",
       "      <td>0.375</td>\n",
       "      <td>0.7</td>\n",
       "      <td>1.9</td>\n",
       "      <td>0.368</td>\n",
       "      <td>0.5</td>\n",
       "      <td>...</td>\n",
       "      <td>1.7</td>\n",
       "      <td>0.4</td>\n",
       "      <td>0.4</td>\n",
       "      <td>0.2</td>\n",
       "      <td>0.4</td>\n",
       "      <td>0.9</td>\n",
       "      <td>3.5</td>\n",
       "      <td>0.898</td>\n",
       "      <td>69</td>\n",
       "      <td>72.0</td>\n",
       "    </tr>\n",
       "    <tr>\n",
       "      <th>4</th>\n",
       "      <td>Dewayne Dedmon</td>\n",
       "      <td>44.0</td>\n",
       "      <td>17.6</td>\n",
       "      <td>2.3</td>\n",
       "      <td>5.8</td>\n",
       "      <td>0.400</td>\n",
       "      <td>0.5</td>\n",
       "      <td>2.4</td>\n",
       "      <td>0.206</td>\n",
       "      <td>1.8</td>\n",
       "      <td>...</td>\n",
       "      <td>5.7</td>\n",
       "      <td>0.5</td>\n",
       "      <td>0.6</td>\n",
       "      <td>0.9</td>\n",
       "      <td>1.3</td>\n",
       "      <td>3.0</td>\n",
       "      <td>5.8</td>\n",
       "      <td>13.333</td>\n",
       "      <td>76</td>\n",
       "      <td>77.0</td>\n",
       "    </tr>\n",
       "  </tbody>\n",
       "</table>\n",
       "<p>5 rows × 28 columns</p>\n",
       "</div>"
      ],
      "text/plain": [
       "             Player     G    MP   FG   FGA    FG%   3P  3PA    3P%   2P  ...  \\\n",
       "0       Eric Gordon  36.0  28.2  4.8  12.9  0.369  2.7  8.4  0.317  2.1  ...   \n",
       "1  Hassan Whiteside  67.0  30.0  6.5  10.5  0.621  0.1  0.1  0.571  6.4  ...   \n",
       "2      Solomon Hill  59.0  18.4  1.9   4.7  0.396  1.1  2.9  0.368  0.8  ...   \n",
       "3          Miye Oni  10.0  10.9  1.2   3.2  0.375  0.7  1.9  0.368  0.5  ...   \n",
       "4    Dewayne Dedmon  44.0  17.6  2.3   5.8  0.400  0.5  2.4  0.206  1.8  ...   \n",
       "\n",
       "    TRB  AST  STL  BLK  TOV   PF   PTS  salary  rating  Appr. Rating  \n",
       "0   2.0  1.5  0.6  0.4  1.2  1.9  14.4  14.058      78          83.0  \n",
       "1  13.5  1.2  0.4  2.9  1.8  2.9  15.5  27.093      81          81.0  \n",
       "2   2.8  1.8  0.7  0.2  0.9  1.4   5.5  13.290      70          74.0  \n",
       "3   1.7  0.4  0.4  0.2  0.4  0.9   3.5   0.898      69          72.0  \n",
       "4   5.7  0.5  0.6  0.9  1.3  3.0   5.8  13.333      76          77.0  \n",
       "\n",
       "[5 rows x 28 columns]"
      ]
     },
     "execution_count": 4,
     "metadata": {},
     "output_type": "execute_result"
    }
   ],
   "source": [
    "unified_dataframe.head()"
   ]
  },
  {
   "cell_type": "markdown",
   "metadata": {},
   "source": [
    "## First results"
   ]
  },
  {
   "cell_type": "markdown",
   "metadata": {},
   "source": [
    "We can see the calculated rating in the last column \"Appr. Rating\". Let's compare the deviation from the actual rating for the players by adding a difference column:"
   ]
  },
  {
   "cell_type": "code",
   "execution_count": 5,
   "metadata": {},
   "outputs": [
    {
     "data": {
      "image/png": "[encoded data removed]",
      "text/plain": [
       "<Figure size 640x480 with 1 Axes>"
      ]
     },
     "metadata": {},
     "output_type": "display_data"
    }
   ],
   "source": [
    "unified_dataframe['diff'] = (unified_dataframe['rating'] - unified_dataframe['Appr. Rating']).abs()\n",
    "\n",
    "counts, edges, bars = plt.hist(unified_dataframe['diff'], bins = int(unified_dataframe['diff'].max())+1, rwidth=0.9) \n",
    "plt.bar_label(bars)\n",
    "plt.show()"
   ]
  },
  {
   "cell_type": "markdown",
   "metadata": {},
   "source": [
    "Most of the players seem to be accurately classified, if we assume correct rating for differences under or equal three. \\\n",
    "Let's take a closer look at the remaining players, beginning with the average rating and salary in comparison."
   ]
  },
  {
   "cell_type": "code",
   "execution_count": 6,
   "metadata": {},
   "outputs": [
    {
     "name": "stdout",
     "output_type": "stream",
     "text": [
      "Mean rating for all players: 76.46\n",
      "Mean rating for players with a rating difference larger than three: 79.48M\n",
      " \n",
      "Mean salary for all players: 8.73\n",
      "Mean salary for players with a rating difference larger than three: 12.63M\n"
     ]
    }
   ],
   "source": [
    "deviants = unified_dataframe.loc[unified_dataframe['diff'] > 3]\n",
    "\n",
    "print(f\"Mean rating for all players: {round(unified_dataframe['rating'].mean(), 2)}\")\n",
    "print(f\"Mean rating for players with a rating difference larger than three: {round(deviants['rating'].mean(), 2)}M\") \n",
    "print(\" \")\n",
    "print(f\"Mean salary for all players: {round(unified_dataframe['salary'].mean(), 2)}\")\n",
    "print(f\"Mean salary for players with a rating difference larger than three: {round(deviants['salary'].mean(), 2)}M\")"
   ]
  },
  {
   "cell_type": "markdown",
   "metadata": {},
   "source": [
    "Before we draw any conclusions, let's take a look at the deviations without computing the absolute values. We do that to check, if players get rather over or underrated by our algorithm."
   ]
  },
  {
   "cell_type": "code",
   "execution_count": 7,
   "metadata": {},
   "outputs": [
    {
     "name": "stdout",
     "output_type": "stream",
     "text": [
      "The sum over the differences is: 79.0 for 334 entries -> 0.24 per row\n"
     ]
    }
   ],
   "source": [
    "actual_difference = (unified_dataframe['rating'] - unified_dataframe['Appr. Rating'])\n",
    "print(f\"The sum over the differences is: {actual_difference.sum()} for {len(actual_difference)} entries -> {round(actual_difference.sum() / len(actual_difference), 2)} per row\")\n"
   ]
  },
  {
   "cell_type": "markdown",
   "metadata": {},
   "source": [
    "The algorithm seem to neither heavily under nor overrate the players. Finally, let's take a look at the importance of the different features, e.g. for the first model"
   ]
  },
  {
   "cell_type": "code",
   "execution_count": 8,
   "metadata": {},
   "outputs": [],
   "source": [
    "columns = list(unified_dataframe.columns)\n",
    "columns.remove('Player')\n",
    "columns.remove('rating')\n",
    "columns.remove('Appr. Rating')\n",
    "columns.remove('diff')"
   ]
  },
  {
   "cell_type": "code",
   "execution_count": 10,
   "metadata": {},
   "outputs": [
    {
     "data": {
      "text/plain": [
       "<Axes: ylabel='Feature'>"
      ]
     },
     "execution_count": 10,
     "metadata": {},
     "output_type": "execute_result"
    },
    {
     "data": {
      "image/png": "[encoded data removed]",
      "text/plain": [
       "<Figure size 1000x600 with 1 Axes>"
      ]
     },
     "metadata": {},
     "output_type": "display_data"
    }
   ],
   "source": [
    "import pandas as pd\n",
    "import numpy as np\n",
    "\n",
    "coefficients = models[0].coef_[0]\n",
    "\n",
    "feature_importance = pd.DataFrame({'Feature': columns, 'Importance': np.abs(coefficients)})\n",
    "feature_importance = feature_importance.sort_values('Importance', ascending=True)\n",
    "feature_importance.plot(x='Feature', y='Importance', kind='barh', figsize=(10, 6))"
   ]
  },
  {
   "cell_type": "markdown",
   "metadata": {},
   "source": [
    "Salary seems to be a very important feature, which aligns with our desired output. However, PF (=Personal fouls) as the second most important feature seems not good. Additionally, AST (assists) is one of the most important stats and has the second-lowest importance for our model. Here some future work is needed."
   ]
  },
  {
   "cell_type": "markdown",
   "metadata": {},
   "source": [
    "# Discussion"
   ]
  },
  {
   "cell_type": "markdown",
   "metadata": {},
   "source": [
    "## First conclusion\n",
    "It seems that higher rated player with a big salary tend to be further away from their actual rating than lower rated ones. However, the connection is of course obvious, because better players get paid more.\n",
    "\n",
    "One possible explanation could be the trend to rate some players higher to also populate the top of the rating list. The number of players rated 90 or higher in NBA2k grew over the years. This suggests rating inflation in contrast to a higher number of players actually playing on that level in comparison to the rest of the league.\n",
    "\n",
    "## Further work\n",
    "Improve the regression by providing additional data from previous seasons. This should just require additional 2k datasets, since the stats are already present in the existing dataset. However, take the results with a grain of salt, since there are changes in the way ratings are assigned and more modern ratings tend to be higher. This can of course change the results of the regression model. Additionally, the salary cap is increasing most years, which also results in higher salaries. To avoid skewing the classification it would be possible to use the percentage of the salary cap the player is earning. This should be a fair comparison at least for the last 10 years, because the structure of allowed contracts did not change drastically except for Super Max contracts. \\\n",
    "\n",
    "As discussed in the feature importance part, some features do not correlate with their real-world importance. Removing for example personal fouls and running the experiment again could provide further insight. "
   ]
  }
 ],
 "metadata": {
  "kernelspec": {
   "display_name": ".venv",
   "language": "python",
   "name": "python3"
  },
  "language_info": {
   "codemirror_mode": {
    "name": "ipython",
    "version": 3
   },
   "file_extension": ".py",
   "mimetype": "text/x-python",
   "name": "python",
   "nbconvert_exporter": "python",
   "pygments_lexer": "ipython3",
   "version": "3.11.6"
  }
 },
 "nbformat": 4,
 "nbformat_minor": 2
}
